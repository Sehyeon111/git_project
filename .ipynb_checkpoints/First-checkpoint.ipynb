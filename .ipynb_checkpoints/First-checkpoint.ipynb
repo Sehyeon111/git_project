{
 "cells": [
  {
   "cell_type": "code",
   "execution_count": null,
   "id": "5bd51daa-6827-48e3-95fe-1a29aa4d4407",
   "metadata": {},
   "outputs": [],
   "source": [
    "print('Member1이 작업함')"
   ]
  },
  {
   "cell_type": "code",
   "execution_count": null,
   "id": "eb565cab-a477-447e-a6ef-661de25d206a",
   "metadata": {},
   "outputs": [],
   "source": [
    "print('Member1이 수정함')"
   ]
  },
  {
   "cell_type": "code",
   "execution_count": 1,
   "id": "d57f82a3-372b-4b35-a378-6546847d0e06",
   "metadata": {},
   "outputs": [
    {
     "name": "stdout",
     "output_type": "stream",
     "text": [
      "브랜치에서 작업함\n"
     ]
    }
   ],
   "source": [
    "print('브랜치에서 작업함')"
   ]
  }
 ],
 "metadata": {
  "kernelspec": {
   "display_name": "Python 3 (ipykernel)",
   "language": "python",
   "name": "python3"
  },
  "language_info": {
   "codemirror_mode": {
    "name": "ipython",
    "version": 3
   },
   "file_extension": ".py",
   "mimetype": "text/x-python",
   "name": "python",
   "nbconvert_exporter": "python",
   "pygments_lexer": "ipython3",
   "version": "3.11.5"
  }
 },
 "nbformat": 4,
 "nbformat_minor": 5
}
